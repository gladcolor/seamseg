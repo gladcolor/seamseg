{
 "cells": [
  {
   "cell_type": "code",
   "execution_count": 5,
   "id": "821c8e82-5903-4c60-a799-cd7e568adf46",
   "metadata": {},
   "outputs": [],
   "source": [
    "import umsgpack\n",
    "\n",
    "def load_meta(meta_file):\n",
    "    with open(meta_file, \"rb\") as fid:\n",
    "        data = umsgpack.load(fid, encoding=\"utf-8\")\n",
    "        meta = data[\"meta\"]\n",
    "    return meta"
   ]
  },
  {
   "cell_type": "code",
   "execution_count": 8,
   "id": "45d8ce12-58d1-4c29-8c0c-4fda951ca162",
   "metadata": {},
   "outputs": [],
   "source": [
    "meta_file = r'K:\\Research\\seamseg\\scripts\\seamseg_r50_vistas\\metadata.bin'\n",
    "\n",
    "meta = load_meta(meta_file)"
   ]
  },
  {
   "cell_type": "code",
   "execution_count": 14,
   "id": "40930328-a8c4-40f9-9657-a48b0ad9c2f8",
   "metadata": {},
   "outputs": [],
   "source": [
    "import json\n",
    "\n",
    "w_json_file = r'mapillary_class_index.json'\n",
    "\n",
    "\n",
    "json.dump(meta, open(w_json_file, 'w'), indent=2)"
   ]
  },
  {
   "cell_type": "code",
   "execution_count": 11,
   "id": "81c4b4b4-1703-47da-aef2-7499199bba2a",
   "metadata": {},
   "outputs": [
    {
     "name": "stdout",
     "output_type": "stream",
     "text": [
      "num_stuff\n",
      "num_thing\n",
      "categories\n",
      "palette\n",
      "original_ids\n"
     ]
    }
   ],
   "source": [
    "for k in meta.keys():\n",
    "    print(k)"
   ]
  },
  {
   "cell_type": "code",
   "execution_count": 16,
   "id": "95a167ff-01f7-4dff-8ba1-141edd7d3082",
   "metadata": {},
   "outputs": [
    {
     "data": {
      "text/plain": [
       "65"
      ]
     },
     "execution_count": 16,
     "metadata": {},
     "output_type": "execute_result"
    }
   ],
   "source": [
    "len(meta['categories'])"
   ]
  },
  {
   "cell_type": "code",
   "execution_count": 17,
   "id": "4ea60718-c574-468e-82a0-ff6d6ad5120a",
   "metadata": {},
   "outputs": [
    {
     "data": {
      "text/plain": [
       "65"
      ]
     },
     "execution_count": 17,
     "metadata": {},
     "output_type": "execute_result"
    }
   ],
   "source": [
    "len(meta['original_ids'])"
   ]
  },
  {
   "cell_type": "code",
   "execution_count": 19,
   "id": "cc1e1418-3559-47d7-9e01-1c47ddbd3ebc",
   "metadata": {},
   "outputs": [
    {
     "ename": "KeyError",
     "evalue": "('original_ids', 'categories', 'palette')",
     "output_type": "error",
     "traceback": [
      "\u001b[1;31m---------------------------------------------------------------------------\u001b[0m",
      "\u001b[1;31mKeyError\u001b[0m                                  Traceback (most recent call last)",
      "\u001b[1;32m<ipython-input-19-eb03add95045>\u001b[0m in \u001b[0;36m<module>\u001b[1;34m\u001b[0m\n\u001b[1;32m----> 1\u001b[1;33m \u001b[0mlen\u001b[0m\u001b[1;33m(\u001b[0m\u001b[0mmeta\u001b[0m\u001b[1;33m[\u001b[0m\u001b[1;34m'original_ids'\u001b[0m\u001b[1;33m,\u001b[0m \u001b[1;34m'categories'\u001b[0m\u001b[1;33m,\u001b[0m \u001b[1;34m'palette'\u001b[0m\u001b[1;33m]\u001b[0m\u001b[1;33m)\u001b[0m\u001b[1;33m\u001b[0m\u001b[1;33m\u001b[0m\u001b[0m\n\u001b[0m",
      "\u001b[1;31mKeyError\u001b[0m: ('original_ids', 'categories', 'palette')"
     ]
    }
   ],
   "source": [
    "len(meta['original_ids', 'categories', 'palette'])"
   ]
  },
  {
   "cell_type": "code",
   "execution_count": 31,
   "id": "d73b6138-a75e-4bf9-b189-7ce9c6a3b34a",
   "metadata": {},
   "outputs": [],
   "source": [
    "import pandas as pd\n",
    "\n",
    "df = pd.DataFrame(meta['original_ids'])\n",
    "df.columns = ['original_ids']\n",
    "df['categories'] = pd.DataFrame(meta['categories'])[0]\n",
    "df['palette'] = meta['palette']\n",
    "df.index.name = 'index'\n",
    "df.to_csv('mapillary_class_index.csv', index=True)"
   ]
  },
  {
   "cell_type": "code",
   "execution_count": null,
   "id": "1ccb1f49-3fe9-463a-a0c5-81a0ed1f1ba7",
   "metadata": {},
   "outputs": [],
   "source": []
  },
  {
   "cell_type": "code",
   "execution_count": 12,
   "id": "2f660e5c-6aea-4c12-a3f7-dd50a57d18b2",
   "metadata": {},
   "outputs": [
    {
     "data": {
      "text/plain": [
       "240"
      ]
     },
     "execution_count": 12,
     "metadata": {},
     "output_type": "execute_result"
    }
   ],
   "source": [
    "import sys\n",
    "\n",
    "sys.getsizeof(meta)"
   ]
  },
  {
   "cell_type": "code",
   "execution_count": 49,
   "id": "6805e53f-d6de-4238-9342-59b7b52cce47",
   "metadata": {},
   "outputs": [
    {
     "name": "stdout",
     "output_type": "stream",
     "text": [
      "CompositeGenericTransform(\n",
      "    Affine2D(\n",
      "        [[ 0.8660254 -0.5        0.       ]\n",
      "         [ 0.5        0.8660254  0.       ]\n",
      "         [ 0.         0.         1.       ]]),\n",
      "    CompositeGenericTransform(\n",
      "        TransformWrapper(\n",
      "            BlendedAffine2D(\n",
      "                IdentityTransform(),\n",
      "                IdentityTransform())),\n",
      "        CompositeGenericTransform(\n",
      "            BboxTransformFrom(\n",
      "                TransformedBbox(\n",
      "                    Bbox(x0=-2.0, y0=-3.0, x1=4.0, y1=2.0),\n",
      "                    TransformWrapper(\n",
      "                        BlendedAffine2D(\n",
      "                            IdentityTransform(),\n",
      "                            IdentityTransform())))),\n",
      "            BboxTransformTo(\n",
      "                TransformedBbox(\n",
      "                    Bbox(x0=0.125, y0=0.53, x1=0.47727272727272724, y1=0.88),\n",
      "                    BboxTransformTo(\n",
      "                        TransformedBbox(\n",
      "                            Bbox(x0=0.0, y0=0.0, x1=6.4, y1=4.8),\n",
      "                            Affine2D(\n",
      "                                [[100.   0.   0.]\n",
      "                                 [  0. 100.   0.]\n",
      "                                 [  0.   0.   1.]]))))))))\n",
      "im.get_extent(): [-2, 4, -3, 2]\n",
      "CompositeGenericTransform(\n",
      "    Affine2D(\n",
      "        [[1.         0.57735027 0.        ]\n",
      "         [0.26794919 1.         0.        ]\n",
      "         [0.         0.         1.        ]]),\n",
      "    CompositeGenericTransform(\n",
      "        TransformWrapper(\n",
      "            BlendedAffine2D(\n",
      "                IdentityTransform(),\n",
      "                IdentityTransform())),\n",
      "        CompositeGenericTransform(\n",
      "            BboxTransformFrom(\n",
      "                TransformedBbox(\n",
      "                    Bbox(x0=-2.0, y0=-3.0, x1=4.0, y1=2.0),\n",
      "                    TransformWrapper(\n",
      "                        BlendedAffine2D(\n",
      "                            IdentityTransform(),\n",
      "                            IdentityTransform())))),\n",
      "            BboxTransformTo(\n",
      "                TransformedBbox(\n",
      "                    Bbox(x0=0.5477272727272726, y0=0.53, x1=0.8999999999999999, y1=0.88),\n",
      "                    BboxTransformTo(\n",
      "                        TransformedBbox(\n",
      "                            Bbox(x0=0.0, y0=0.0, x1=6.4, y1=4.8),\n",
      "                            Affine2D(\n",
      "                                [[100.   0.   0.]\n",
      "                                 [  0. 100.   0.]\n",
      "                                 [  0.   0.   1.]]))))))))\n",
      "im.get_extent(): [-2, 4, -3, 2]\n",
      "CompositeGenericTransform(\n",
      "    Affine2D(\n",
      "        [[-1.  -0.  -0. ]\n",
      "         [ 0.   0.5  0. ]\n",
      "         [ 0.   0.   1. ]]),\n",
      "    CompositeGenericTransform(\n",
      "        TransformWrapper(\n",
      "            BlendedAffine2D(\n",
      "                IdentityTransform(),\n",
      "                IdentityTransform())),\n",
      "        CompositeGenericTransform(\n",
      "            BboxTransformFrom(\n",
      "                TransformedBbox(\n",
      "                    Bbox(x0=-2.0, y0=-3.0, x1=4.0, y1=2.0),\n",
      "                    TransformWrapper(\n",
      "                        BlendedAffine2D(\n",
      "                            IdentityTransform(),\n",
      "                            IdentityTransform())))),\n",
      "            BboxTransformTo(\n",
      "                TransformedBbox(\n",
      "                    Bbox(x0=0.125, y0=0.10999999999999999, x1=0.47727272727272724, y1=0.46),\n",
      "                    BboxTransformTo(\n",
      "                        TransformedBbox(\n",
      "                            Bbox(x0=0.0, y0=0.0, x1=6.4, y1=4.8),\n",
      "                            Affine2D(\n",
      "                                [[100.   0.   0.]\n",
      "                                 [  0. 100.   0.]\n",
      "                                 [  0.   0.   1.]]))))))))\n",
      "im.get_extent(): [-2, 4, -3, 2]\n",
      "CompositeGenericTransform(\n",
      "    Affine2D(\n",
      "        [[-1.15470054e+00 -5.55111512e-17 -2.00000000e+00]\n",
      "         [ 3.66025404e-01  3.66025404e-01 -2.00000000e+00]\n",
      "         [ 0.00000000e+00  0.00000000e+00  1.00000000e+00]]),\n",
      "    CompositeGenericTransform(\n",
      "        TransformWrapper(\n",
      "            BlendedAffine2D(\n",
      "                IdentityTransform(),\n",
      "                IdentityTransform())),\n",
      "        CompositeGenericTransform(\n",
      "            BboxTransformFrom(\n",
      "                TransformedBbox(\n",
      "                    Bbox(x0=-2.0, y0=-3.0, x1=4.0, y1=2.0),\n",
      "                    TransformWrapper(\n",
      "                        BlendedAffine2D(\n",
      "                            IdentityTransform(),\n",
      "                            IdentityTransform())))),\n",
      "            BboxTransformTo(\n",
      "                TransformedBbox(\n",
      "                    Bbox(x0=0.5477272727272726, y0=0.10999999999999999, x1=0.8999999999999999, y1=0.46),\n",
      "                    BboxTransformTo(\n",
      "                        TransformedBbox(\n",
      "                            Bbox(x0=0.0, y0=0.0, x1=6.4, y1=4.8),\n",
      "                            Affine2D(\n",
      "                                [[100.   0.   0.]\n",
      "                                 [  0. 100.   0.]\n",
      "                                 [  0.   0.   1.]]))))))))\n",
      "im.get_extent(): [-2, 4, -3, 2]\n"
     ]
    },
    {
     "data": {
      "image/png": "[encoded data removed]",
      "text/plain": [
       "<Figure size 640x480 with 4 Axes>"
      ]
     },
     "metadata": {},
     "output_type": "display_data"
    }
   ],
   "source": [
    "import numpy as np\n",
    "import matplotlib.pyplot as plt\n",
    "import matplotlib.transforms as mtransforms\n",
    "\n",
    "\n",
    "def get_image():\n",
    "    delta = 0.25\n",
    "    x = y = np.arange(-3.0, 3.0, delta)\n",
    "    X, Y = np.meshgrid(x, y)\n",
    "    Z1 = np.exp(-X**2 - Y**2)\n",
    "    Z2 = np.exp(-(X - 1)**2 - (Y - 1)**2)\n",
    "    Z = (Z1 - Z2)\n",
    "    return Z\n",
    "\n",
    "\n",
    "def do_plot(ax, Z, transform):\n",
    "    im = ax.imshow(Z, interpolation='none',\n",
    "                   origin='lower',\n",
    "                   extent=[-2, 4, -3, 2], clip_on=True)\n",
    "\n",
    "    trans_data = transform + ax.transData\n",
    "    im.set_transform(trans_data)\n",
    "    \n",
    "    print(trans_data)\n",
    "\n",
    "    # display intended extent of the image\n",
    "    x1, x2, y1, y2 = im.get_extent()\n",
    "    print('im.get_extent():', im.get_extent())\n",
    "    ax.plot([x1, x2, x2, x1, x1], [y1, y1, y2, y2, y1], \"y--\",\n",
    "            transform=trans_data)\n",
    "    ax.set_xlim(-5, 5)\n",
    "    ax.set_ylim(-4, 4)\n",
    "\n",
    "\n",
    "# prepare image and figure\n",
    "fig, ((ax1, ax2), (ax3, ax4)) = plt.subplots(2, 2)\n",
    "Z = get_image()\n",
    "\n",
    "# image rotation\n",
    "do_plot(ax1, Z, mtransforms.Affine2D().rotate_deg(30))\n",
    "\n",
    "# image skew\n",
    "do_plot(ax2, Z, mtransforms.Affine2D().skew_deg(30, 15))\n",
    "\n",
    "# scale and reflection\n",
    "do_plot(ax3, Z, mtransforms.Affine2D().scale(-1, .5))\n",
    "\n",
    "# everything and a translation\n",
    "do_plot(ax4, Z, mtransforms.Affine2D().\n",
    "        rotate_deg(30).skew_deg(30, 15).scale(-1, .5).translate(-2, -2))\n",
    "\n",
    "plt.show()"
   ]
  }
 ],
 "metadata": {
  "kernelspec": {
   "display_name": "base",
   "language": "python",
   "name": "base"
  },
  "language_info": {
   "codemirror_mode": {
    "name": "ipython",
    "version": 3
   },
   "file_extension": ".py",
   "mimetype": "text/x-python",
   "name": "python",
   "nbconvert_exporter": "python",
   "pygments_lexer": "ipython3",
   "version": "3.7.4"
  }
 },
 "nbformat": 4,
 "nbformat_minor": 5
}
